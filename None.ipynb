{
 "cells": [
  {
   "cell_type": "markdown",
   "id": "fda90841-bf82-41ac-b235-41071e68c1a4",
   "metadata": {
    "jp-MarkdownHeadingCollapsed": true,
    "tags": []
   },
   "source": [
    "# None"
   ]
  },
  {
   "cell_type": "raw",
   "id": "ae0bdd67-cf41-41ac-ac6e-24293d13f016",
   "metadata": {},
   "source": [
    "В python значение None — это специальный объект, принадлежащий типу данных NoneType. Он обозначает отсутсвие."
   ]
  },
  {
   "cell_type": "markdown",
   "id": "d64cf227-cb8c-4084-8bd4-2f975405bc58",
   "metadata": {
    "jp-MarkdownHeadingCollapsed": true,
    "tags": []
   },
   "source": [
    "# Что обозначет None?"
   ]
  },
  {
   "cell_type": "raw",
   "id": "d14db12b-43a5-4ac8-9dd5-ba01d464ea92",
   "metadata": {},
   "source": [
    "В python значение None — это специальный объект, принадлежащий типу данных NoneType. Он обозначает отсутсвие."
   ]
  },
  {
   "cell_type": "markdown",
   "id": "5bbdf4b6-8065-487b-a0fe-f33893ab65b0",
   "metadata": {
    "jp-MarkdownHeadingCollapsed": true,
    "tags": []
   },
   "source": [
    "# К какому классу принадлежит None?"
   ]
  },
  {
   "cell_type": "raw",
   "id": "0c531020-7fae-42e0-ae59-1017310fb128",
   "metadata": {},
   "source": [
    "None — это одноэлементный объект класса NoneType. "
   ]
  },
  {
   "cell_type": "raw",
   "id": "143fa6eb-d1ae-43db-ac5c-6c9dbac245c4",
   "metadata": {},
   "source": [
    "# Сколько экземпляров может быть у None?"
   ]
  },
  {
   "cell_type": "raw",
   "id": "b6acf32d-b331-4df8-930d-3b3d454b0df2",
   "metadata": {},
   "source": [
    "Только один его экземпляр!!! \n",
    "Все переменные, которым присвоено значение None, указывают на один и тот же объект в Python!!!"
   ]
  },
  {
   "cell_type": "markdown",
   "id": "99b139b9-ac6c-48f1-8257-991ca0182ba0",
   "metadata": {
    "jp-MarkdownHeadingCollapsed": true,
    "tags": []
   },
   "source": [
    "# Чему равен None: 0, пустому списку, False, пустой строке?"
   ]
  },
  {
   "cell_type": "raw",
   "id": "ef9eebb7-2b69-48cb-84fc-c812ce0d6198",
   "metadata": {},
   "source": [
    "Ничему!!!"
   ]
  },
  {
   "cell_type": "markdown",
   "id": "3fd77e46-06cb-40e3-b6f5-de7bc3bba046",
   "metadata": {
    "jp-MarkdownHeadingCollapsed": true,
    "tags": []
   },
   "source": [
    "# Можно ли что-то сравнивать с None?"
   ]
  },
  {
   "cell_type": "raw",
   "id": "19fa9ff2-e627-4912-8789-5e27c7934b65",
   "metadata": {},
   "source": [
    "Нет! < > нельзя использовать с None."
   ]
  },
  {
   "cell_type": "markdown",
   "id": "2f684cea-501b-4afa-b7b0-ff4ff2756f19",
   "metadata": {
    "jp-MarkdownHeadingCollapsed": true,
    "tags": []
   },
   "source": [
    "# В чем отличие оператора == от is? Какой лучше использовать с None?"
   ]
  },
  {
   "cell_type": "raw",
   "id": "e8e41077-7dd4-44d3-ade7-e5b03c888ae9",
   "metadata": {},
   "source": [
    "Оператор сравнения == сравнивает по значению\n",
    "Оператор is (is not), сравнивает по адресам в памяти (по id)\n",
    "\n",
    "Лучше по id, поскольку None ссылается на один объект с одним id."
   ]
  },
  {
   "cell_type": "markdown",
   "id": "35f6d426-5c7c-43f3-9da2-ce73be957aff",
   "metadata": {
    "tags": []
   },
   "source": [
    "# В каком случае можно использовать None?"
   ]
  },
  {
   "cell_type": "code",
   "execution_count": 3,
   "id": "81bafc36-8484-4f2d-9ece-f9dbadf946de",
   "metadata": {},
   "outputs": [
    {
     "name": "stdout",
     "output_type": "stream",
     "text": [
      "None\n"
     ]
    }
   ],
   "source": [
    "# 1) Для инициализации переменной. \n",
    "\n",
    "a = None\n",
    "print(a)\n",
    "\n",
    "#2) Для возврата значения из функций????\n",
    "\n",
    "#3) Для значений по умолчанию в функциях, чтобы избежать проблемы изменяемых объектов???|"
   ]
  },
  {
   "cell_type": "code",
   "execution_count": null,
   "id": "2defd5ee-7dbf-4939-9b4d-5751fdeaab88",
   "metadata": {},
   "outputs": [],
   "source": []
  }
 ],
 "metadata": {
  "kernelspec": {
   "display_name": "Python [conda env:conda-default] *",
   "language": "python",
   "name": "conda-env-conda-default-py"
  },
  "language_info": {
   "codemirror_mode": {
    "name": "ipython",
    "version": 3
   },
   "file_extension": ".py",
   "mimetype": "text/x-python",
   "name": "python",
   "nbconvert_exporter": "python",
   "pygments_lexer": "ipython3",
   "version": "3.11.0"
  }
 },
 "nbformat": 4,
 "nbformat_minor": 5
}
