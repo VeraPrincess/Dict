{
 "cells": [
  {
   "cell_type": "markdown",
   "id": "fda90841-bf82-41ac-b235-41071e68c1a4",
   "metadata": {
    "tags": []
   },
   "source": [
    "# None"
   ]
  },
  {
   "cell_type": "markdown",
   "id": "d64cf227-cb8c-4084-8bd4-2f975405bc58",
   "metadata": {
    "tags": []
   },
   "source": [
    "# Что обозначет None?"
   ]
  },
  {
   "cell_type": "markdown",
   "id": "35502ac2-8125-4013-bb53-bae38a59d34b",
   "metadata": {},
   "source": [
    "В python значение None — это специальный объект, принадлежащий типу данных NoneType. Он обозначает отсутсвие."
   ]
  },
  {
   "cell_type": "markdown",
   "id": "5bbdf4b6-8065-487b-a0fe-f33893ab65b0",
   "metadata": {
    "tags": []
   },
   "source": [
    "# К какому классу принадлежит None?"
   ]
  },
  {
   "cell_type": "markdown",
   "id": "49e02e03-0f6f-4392-83c0-82018bdf8766",
   "metadata": {},
   "source": [
    "None — это одноэлементный объект класса NoneType. "
   ]
  },
  {
   "cell_type": "markdown",
   "id": "17ced55d-751d-4cb6-b19d-b57d2ea29f9a",
   "metadata": {},
   "source": [
    "# Сколько экземпляров может быть у None?"
   ]
  },
  {
   "cell_type": "markdown",
   "id": "e704d5e8-641a-425f-ab2a-d4deb298d6a8",
   "metadata": {},
   "source": [
    "Только один его экземпляр!!! \n",
    "Все переменные, которым присвоено значение None, указывают на один и тот же объект в Python!!!"
   ]
  },
  {
   "cell_type": "markdown",
   "id": "99b139b9-ac6c-48f1-8257-991ca0182ba0",
   "metadata": {
    "tags": []
   },
   "source": [
    "# Чему равен None: 0, пустому списку, False, пустой строке?"
   ]
  },
  {
   "cell_type": "markdown",
   "id": "ecfc8a24-2dfd-42e2-bab9-715ad3363113",
   "metadata": {},
   "source": [
    "Ничему!!!"
   ]
  },
  {
   "cell_type": "markdown",
   "id": "3fd77e46-06cb-40e3-b6f5-de7bc3bba046",
   "metadata": {
    "tags": []
   },
   "source": [
    "# Можно ли что-то сравнивать с None?"
   ]
  },
  {
   "cell_type": "markdown",
   "id": "e09115bb-28b5-4cdd-92de-e22e298b5464",
   "metadata": {},
   "source": [
    "Нет! < и > нельзя использовать с None."
   ]
  },
  {
   "cell_type": "markdown",
   "id": "2f684cea-501b-4afa-b7b0-ff4ff2756f19",
   "metadata": {
    "tags": []
   },
   "source": [
    "# В чем отличие оператора == от is? Какой лучше использовать с None?"
   ]
  },
  {
   "cell_type": "markdown",
   "id": "b1e8e1a6-d67e-4170-a161-732eaaf78105",
   "metadata": {},
   "source": [
    "Оператор сравнения == сравнивает по значению\n",
    "Оператор is (is not), сравнивает по адресам в памяти (по id)\n",
    "\n",
    "Лучше по id, поскольку None ссылается на один объект с одним id."
   ]
  },
  {
   "cell_type": "markdown",
   "id": "35f6d426-5c7c-43f3-9da2-ce73be957aff",
   "metadata": {
    "tags": []
   },
   "source": [
    "# В каком случае можно использовать None?"
   ]
  },
  {
   "cell_type": "code",
   "execution_count": 5,
   "id": "e56497b0-608b-492b-96c5-76c281ade399",
   "metadata": {},
   "outputs": [
    {
     "name": "stdout",
     "output_type": "stream",
     "text": [
      "None\n"
     ]
    }
   ],
   "source": [
    "#1) Для инициализации переменной. \n",
    "\n",
    "Vacuum = None\n",
    "print(Vacuum)\n",
    "\n",
    "#2) Для возврата значения из функций\n",
    "\n",
    "#3) Для значений по умолчанию в функциях, чтобы избежать проблемы изменяемых объектов"
   ]
  }
 ],
 "metadata": {
  "kernelspec": {
   "display_name": "Python [conda env:conda-default] *",
   "language": "python",
   "name": "conda-env-conda-default-py"
  },
  "language_info": {
   "codemirror_mode": {
    "name": "ipython",
    "version": 3
   },
   "file_extension": ".py",
   "mimetype": "text/x-python",
   "name": "python",
   "nbconvert_exporter": "python",
   "pygments_lexer": "ipython3",
   "version": "3.11.0"
  }
 },
 "nbformat": 4,
 "nbformat_minor": 5
}
