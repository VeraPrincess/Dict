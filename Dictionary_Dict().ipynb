{
 "cells": [
  {
   "cell_type": "markdown",
   "id": "e5c4eed8-4222-4fe3-9e01-c3c83206f795",
   "metadata": {
    "jp-MarkdownHeadingCollapsed": true,
    "tags": []
   },
   "source": [
    "# Dictionary"
   ]
  },
  {
   "cell_type": "markdown",
   "id": "0af1e1ee-e005-42bb-9249-cf5be3f1819c",
   "metadata": {
    "jp-MarkdownHeadingCollapsed": true,
    "tags": []
   },
   "source": [
    "# Задать словарь через скобочки (чаще всего!):"
   ]
  },
  {
   "cell_type": "raw",
   "id": "ccc7b963-ce3c-4380-8e34-c50e48b82754",
   "metadata": {},
   "source": [
    "Ключи - неизменяемый тип данных, значения - любые типы данных"
   ]
  },
  {
   "cell_type": "code",
   "execution_count": 1,
   "id": "9dcd99e5-92ad-4a5b-b1a5-e84590d3f5e7",
   "metadata": {},
   "outputs": [
    {
     "name": "stdout",
     "output_type": "stream",
     "text": [
      "{'Dima-gf': 32, 'Vera': 26, 'Brovkin': 31}\n"
     ]
    }
   ],
   "source": [
    "d = {'Dima-gf': 32, 'Vera': 26, 'Brovkin': 31}\n",
    "print(d)"
   ]
  },
  {
   "cell_type": "raw",
   "id": "21c089de-d1ac-4538-ab7a-c0cc150548d9",
   "metadata": {},
   "source": [
    "Можно писать \"-\", напрмер Dima-Zverev = 'love'"
   ]
  },
  {
   "cell_type": "code",
   "execution_count": 2,
   "id": "10870144-4a11-493d-9216-4ed79016ffc5",
   "metadata": {},
   "outputs": [
    {
     "data": {
      "text/plain": [
       "31"
      ]
     },
     "execution_count": 2,
     "metadata": {},
     "output_type": "execute_result"
    }
   ],
   "source": [
    "d['Brovkin']"
   ]
  },
  {
   "cell_type": "markdown",
   "id": "bf89eba4-b099-43df-b641-f092fc669ce3",
   "metadata": {
    "jp-MarkdownHeadingCollapsed": true,
    "tags": []
   },
   "source": [
    "# Задать словарь через встроенную функцию dict():"
   ]
  },
  {
   "cell_type": "raw",
   "id": "3f5c44cd-e905-406f-b308-4b21ce65a8c4",
   "metadata": {},
   "source": [
    "Нельзя писать \"-\", напрмер Dima-Zverev = 'love'"
   ]
  },
  {
   "cell_type": "code",
   "execution_count": 3,
   "id": "bc0d6191-a8fd-471e-8c6c-9480ee594d78",
   "metadata": {},
   "outputs": [],
   "source": [
    "d = dict(Dima = 'love', Vera = 'girl', Brovkin = 'friend')"
   ]
  },
  {
   "cell_type": "code",
   "execution_count": 4,
   "id": "e24aab04-07da-4c26-911c-05e0fb7bb76f",
   "metadata": {},
   "outputs": [
    {
     "data": {
      "text/plain": [
       "'love'"
      ]
     },
     "execution_count": 4,
     "metadata": {},
     "output_type": "execute_result"
    }
   ],
   "source": [
    "d['Dima']"
   ]
  },
  {
   "cell_type": "raw",
   "id": "f47ffcc7-9f07-4bc8-a82c-12dd5f8d39a6",
   "metadata": {},
   "source": [
    "Чаще используется, когда есть список, который содержит вложенные списки"
   ]
  },
  {
   "cell_type": "code",
   "execution_count": 5,
   "id": "7d6a08a7-d20c-4730-8bd8-aacec2e4b98d",
   "metadata": {},
   "outputs": [],
   "source": [
    "lst = [['Dima', 'Serbia'], ['Brovkin', 'Russia'], ['Vera', 'Malta']]"
   ]
  },
  {
   "cell_type": "code",
   "execution_count": 6,
   "id": "a1b2504e-cf7a-4823-aa6f-2162a268a905",
   "metadata": {},
   "outputs": [
    {
     "data": {
      "text/plain": [
       "{'Dima': 'Serbia', 'Brovkin': 'Russia', 'Vera': 'Malta'}"
      ]
     },
     "execution_count": 6,
     "metadata": {},
     "output_type": "execute_result"
    }
   ],
   "source": [
    "dict(lst)"
   ]
  },
  {
   "cell_type": "markdown",
   "id": "ed8c19a7-d5d3-448d-a6cf-f1245cb1f91c",
   "metadata": {
    "jp-MarkdownHeadingCollapsed": true,
    "tags": []
   },
   "source": [
    "# Задачть словарь через dict.fromkeys():"
   ]
  },
  {
   "cell_type": "code",
   "execution_count": 6,
   "id": "aa4ff7d2-99ff-4af6-bf66-c21ef7f80c6f",
   "metadata": {},
   "outputs": [
    {
     "name": "stdout",
     "output_type": "stream",
     "text": [
      "{'+7': 'номера', '+8': 'номера', '+3': 'номера'}\n"
     ]
    }
   ],
   "source": [
    "lst = [\"+7\",\"+8\",\"+3\"]\n",
    "a = dict.fromkeys(lst, \"номера\")\n",
    "print(a)"
   ]
  },
  {
   "cell_type": "markdown",
   "id": "51048f32-23db-42b4-9adb-f130ed10363d",
   "metadata": {
    "jp-MarkdownHeadingCollapsed": true,
    "tags": []
   },
   "source": [
    "# Как очистить словарь с помощью .clear()?"
   ]
  },
  {
   "cell_type": "code",
   "execution_count": 7,
   "id": "2faebfed-3f7f-4e74-b456-390be7fd1f46",
   "metadata": {},
   "outputs": [
    {
     "name": "stdout",
     "output_type": "stream",
     "text": [
      "{}\n"
     ]
    }
   ],
   "source": [
    "d = {'+7': 'номера', '+8': 'номера', '+3': 'номера'}\n",
    "d.clear()\n",
    "print(d)"
   ]
  },
  {
   "cell_type": "markdown",
   "id": "b8ccfdaa-dd43-449b-9eac-a30faf3e1420",
   "metadata": {
    "jp-MarkdownHeadingCollapsed": true,
    "tags": []
   },
   "source": [
    "# Как создать копию словаря .copy() и dict()?"
   ]
  },
  {
   "cell_type": "code",
   "execution_count": 10,
   "id": "479bbbcb-e390-4115-b6f8-ba82250c8ef8",
   "metadata": {},
   "outputs": [
    {
     "name": "stdout",
     "output_type": "stream",
     "text": [
      "{'+7': 'номера', '+8': 'номера', '+3': 'номера'}\n",
      "4600807616\n",
      "4600643968\n"
     ]
    }
   ],
   "source": [
    "# copy\n",
    "d = {'+7': 'номера', '+8': 'номера', '+3': 'номера'}\n",
    "d2 = d.copy()\n",
    "print(d2)\n",
    "print(id(d))\n",
    "print(id(d2))"
   ]
  },
  {
   "cell_type": "code",
   "execution_count": 9,
   "id": "db91ea69-6f3c-4fe7-b514-4d01cff3d6eb",
   "metadata": {},
   "outputs": [
    {
     "name": "stdout",
     "output_type": "stream",
     "text": [
      "{'+7': 'номера', '+8': 'номера', '+3': 'номера'}\n",
      "4588084928\n",
      "4601164672\n"
     ]
    }
   ],
   "source": [
    "# dict()\n",
    "d = {'+7': 'номера', '+8': 'номера', '+3': 'номера'}\n",
    "d2 = dict(d)\n",
    "print(d2)\n",
    "print(id(d))\n",
    "print(id(d2))"
   ]
  },
  {
   "cell_type": "markdown",
   "id": "0588aa47-1147-4cbc-8ebd-412ec0dc1190",
   "metadata": {
    "jp-MarkdownHeadingCollapsed": true,
    "tags": []
   },
   "source": [
    "# Как получить значение словаря .get()?"
   ]
  },
  {
   "cell_type": "code",
   "execution_count": 13,
   "id": "73d4ead6-45e4-4361-8ff9-9fc757ce59cc",
   "metadata": {},
   "outputs": [
    {
     "name": "stdout",
     "output_type": "stream",
     "text": [
      "номера1\n"
     ]
    }
   ],
   "source": [
    "d = {'+7': 'номера1', '+8': 'номера', '+3': 'номера'}\n",
    "print(d.get('+7'))\n"
   ]
  },
  {
   "cell_type": "code",
   "execution_count": 14,
   "id": "51580aae-0887-4337-a455-9fd2de936205",
   "metadata": {},
   "outputs": [
    {
     "name": "stdout",
     "output_type": "stream",
     "text": [
      "None\n"
     ]
    }
   ],
   "source": [
    "# d = {'+7': 'номера1', '+8': 'номера', '+3': 'номера'}\n",
    "print(d.get('+'))"
   ]
  },
  {
   "cell_type": "code",
   "execution_count": 15,
   "id": "8406ea5f-1926-4b13-9708-4ce739c05382",
   "metadata": {},
   "outputs": [
    {
     "name": "stdout",
     "output_type": "stream",
     "text": [
      "нет в словаре ключа\n"
     ]
    }
   ],
   "source": [
    "# d = {'+7': 'номера1', '+8': 'номера', '+3': 'номера'}\n",
    "print(d.get('+', 'нет в словаре ключа'))"
   ]
  },
  {
   "cell_type": "markdown",
   "id": "b0ceb1d5-0654-4011-9ade-cd279b2fbac6",
   "metadata": {
    "jp-MarkdownHeadingCollapsed": true,
    "tags": []
   },
   "source": [
    "# Как проверить есть ли ключ, если нет, то добавить его в словарь .setdefault(key,[, default])?"
   ]
  },
  {
   "cell_type": "code",
   "execution_count": 23,
   "id": "65420421-17de-443f-bab0-2083980e8dd1",
   "metadata": {},
   "outputs": [
    {
     "name": "stdout",
     "output_type": "stream",
     "text": [
      "1\n",
      "{'+7': '1', '+8': '2', '+3': '3'}\n"
     ]
    }
   ],
   "source": [
    "d = {'+7': '1', '+8': '2', '+3': '3'}\n",
    "print(d.setdefault('+7'))\n",
    "print(d)"
   ]
  },
  {
   "cell_type": "code",
   "execution_count": 22,
   "id": "8382118d-d65b-4103-9b58-7d6e264a1135",
   "metadata": {},
   "outputs": [
    {
     "name": "stdout",
     "output_type": "stream",
     "text": [
      "None\n",
      "{'+7': 'номера1', '+8': 'номера', '+3': 'номера', '+999': None}\n"
     ]
    }
   ],
   "source": [
    "d = {'+7': 'номера1', '+8': 'номера', '+3': 'номера'}\n",
    "print(d.setdefault('+999'))\n",
    "print(d)"
   ]
  },
  {
   "cell_type": "code",
   "execution_count": null,
   "id": "3def47b5-1041-491e-b249-fbf2450a4d1f",
   "metadata": {},
   "outputs": [],
   "source": [
    "d = {'+7': 'номера1', '+8': 'номера', '+3': 'номера'}\n",
    "print(d.setdefault('+999'))\n",
    "print(d)"
   ]
  },
  {
   "cell_type": "markdown",
   "id": "c3ab1089-78d1-4f9b-a509-367b2ced452e",
   "metadata": {
    "jp-MarkdownHeadingCollapsed": true,
    "tags": []
   },
   "source": [
    "# Как удалить ключ в словаре del, .pop(), .popitem()?"
   ]
  },
  {
   "cell_type": "raw",
   "id": "687bcf94-f2e2-4b90-bc90-2cd6a49e6e7c",
   "metadata": {},
   "source": [
    "Есть ли ключ?  Например, нужно его удалить"
   ]
  },
  {
   "cell_type": "code",
   "execution_count": 7,
   "id": "edfa2b41-f357-4be5-91cb-b8eb50281760",
   "metadata": {},
   "outputs": [
    {
     "name": "stdout",
     "output_type": "stream",
     "text": [
      "{'Dima': 32, 'Vera': 26, 'Brovkin': 31}\n"
     ]
    }
   ],
   "source": [
    "d = {'Dima': 32, 'Vera': 26, 'Brovkin': 31}\n",
    "print(d)"
   ]
  },
  {
   "cell_type": "raw",
   "id": "d32f163d-d2b1-4433-8a4a-ba37cc1f055c",
   "metadata": {},
   "source": [
    "Поиск только ключей"
   ]
  },
  {
   "cell_type": "code",
   "execution_count": 8,
   "id": "571799c2-ff38-4854-94a8-28a1718d9f80",
   "metadata": {},
   "outputs": [
    {
     "data": {
      "text/plain": [
       "True"
      ]
     },
     "execution_count": 8,
     "metadata": {},
     "output_type": "execute_result"
    }
   ],
   "source": [
    "'Dima' in d"
   ]
  },
  {
   "cell_type": "raw",
   "id": "ae406746-ccda-4ef7-ab93-4f423d7dddf3",
   "metadata": {},
   "source": [
    "О, ключ есть!!! Значит, можно его удалить. "
   ]
  },
  {
   "cell_type": "code",
   "execution_count": 25,
   "id": "c7b1ec1e-5262-4577-9513-f18fdf1781a1",
   "metadata": {},
   "outputs": [
    {
     "ename": "KeyError",
     "evalue": "'Dima'",
     "output_type": "error",
     "traceback": [
      "\u001b[0;31m---------------------------------------------------------------------------\u001b[0m",
      "\u001b[0;31mKeyError\u001b[0m                                  Traceback (most recent call last)",
      "Cell \u001b[0;32mIn [25], line 2\u001b[0m\n\u001b[1;32m      1\u001b[0m \u001b[38;5;66;03m# del\u001b[39;00m\n\u001b[0;32m----> 2\u001b[0m \u001b[38;5;28;01mdel\u001b[39;00m \u001b[43md\u001b[49m\u001b[43m[\u001b[49m\u001b[38;5;124;43m'\u001b[39;49m\u001b[38;5;124;43mDima\u001b[39;49m\u001b[38;5;124;43m'\u001b[39;49m\u001b[43m]\u001b[49m\n",
      "\u001b[0;31mKeyError\u001b[0m: 'Dima'"
     ]
    }
   ],
   "source": [
    "# del\n",
    "del d['Dima']"
   ]
  },
  {
   "cell_type": "code",
   "execution_count": 10,
   "id": "380a025c-dec6-4763-b51a-393ad50cac45",
   "metadata": {},
   "outputs": [
    {
     "name": "stdout",
     "output_type": "stream",
     "text": [
      "{'Vera': 26, 'Brovkin': 31}\n"
     ]
    }
   ],
   "source": [
    "print(d)"
   ]
  },
  {
   "cell_type": "code",
   "execution_count": 11,
   "id": "442744c3-b27e-4f61-9b39-4aeb2e01a9cc",
   "metadata": {},
   "outputs": [
    {
     "data": {
      "text/plain": [
       "True"
      ]
     },
     "execution_count": 11,
     "metadata": {},
     "output_type": "execute_result"
    }
   ],
   "source": [
    "'Dima' not in d"
   ]
  },
  {
   "cell_type": "code",
   "execution_count": 28,
   "id": "5cf4dbb6-0f7c-46e4-972f-c0a5a8c716ff",
   "metadata": {},
   "outputs": [
    {
     "name": "stdout",
     "output_type": "stream",
     "text": [
      "{'Dima': 32, 'Vera': 26}\n",
      "31\n",
      "нет в словаре, нельзя удалить\n"
     ]
    }
   ],
   "source": [
    "# pop()\n",
    "d = {'Dima': 32, 'Vera': 26, 'Brovkin': 31}\n",
    "delete1 = d.pop('Brovkin')\n",
    "delete2  = d.pop('Jane', 'нет в словаре, нельзя удалить')\n",
    "print(d)\n",
    "print(delete1)\n",
    "print(delete2)"
   ]
  },
  {
   "cell_type": "code",
   "execution_count": 30,
   "id": "f496ab8a-572e-44cb-8661-f62508f1d855",
   "metadata": {},
   "outputs": [
    {
     "name": "stdout",
     "output_type": "stream",
     "text": [
      "{'Dima': 32, 'Vera': 26}\n"
     ]
    }
   ],
   "source": [
    "# popitem() - удаляет последнюю запись\n",
    "d = {'Dima': 32, 'Vera': 26, 'Brovkin': 31}\n",
    "delete1 = d.popitem()\n",
    "print(d)\n"
   ]
  },
  {
   "cell_type": "markdown",
   "id": "5bd7f4f5-1160-4ae5-b2a7-0406968b41ae",
   "metadata": {
    "jp-MarkdownHeadingCollapsed": true,
    "tags": []
   },
   "source": [
    "# Как получить список только ключей .keys()?"
   ]
  },
  {
   "cell_type": "code",
   "execution_count": 32,
   "id": "6c65f98b-31f1-4255-a08a-0e14a70c71ac",
   "metadata": {},
   "outputs": [
    {
     "name": "stdout",
     "output_type": "stream",
     "text": [
      "dict_keys(['Dima', 'Vera', 'Brovkin'])\n"
     ]
    }
   ],
   "source": [
    "d = {'Dima': 32, 'Vera': 26, 'Brovkin': 31}\n",
    "K = d.keys()\n",
    "print(K)"
   ]
  },
  {
   "cell_type": "code",
   "execution_count": 33,
   "id": "2b0e9195-c8f7-4a97-a616-8ffb43b2626e",
   "metadata": {},
   "outputs": [
    {
     "name": "stdout",
     "output_type": "stream",
     "text": [
      "Dima\n",
      "Vera\n",
      "Brovkin\n"
     ]
    }
   ],
   "source": [
    "d = {'Dima': 32, 'Vera': 26, 'Brovkin': 31}\n",
    "for i in d:\n",
    "    print(i)"
   ]
  },
  {
   "cell_type": "markdown",
   "id": "4840e1f3-f03c-449b-b1c2-2e348ae28797",
   "metadata": {
    "jp-MarkdownHeadingCollapsed": true,
    "tags": []
   },
   "source": [
    "# Как получить список только значений .values()?"
   ]
  },
  {
   "cell_type": "code",
   "execution_count": 35,
   "id": "aa237a3b-3585-4216-95e9-5daddb4ca5de",
   "metadata": {},
   "outputs": [
    {
     "name": "stdout",
     "output_type": "stream",
     "text": [
      "dict_values([32, 26, 31])\n"
     ]
    }
   ],
   "source": [
    "d = {'Dima': 32, 'Vera': 26, 'Brovkin': 31}\n",
    "K = d.values()\n",
    "print(K)"
   ]
  },
  {
   "cell_type": "code",
   "execution_count": 37,
   "id": "a5cfb35c-4758-4a15-8c8d-0104a4ff36c9",
   "metadata": {},
   "outputs": [
    {
     "name": "stdout",
     "output_type": "stream",
     "text": [
      "32\n",
      "26\n",
      "31\n"
     ]
    }
   ],
   "source": [
    "d = {'Dima': 32, 'Vera': 26, 'Brovkin': 31}\n",
    "for i in d.values():\n",
    "    print(i)"
   ]
  },
  {
   "cell_type": "markdown",
   "id": "1a583bb3-e7e9-4606-a8e8-f33e4e422271",
   "metadata": {
    "jp-MarkdownHeadingCollapsed": true,
    "tags": []
   },
   "source": [
    "# Как получить список ключей и значения как кортеж .items()?"
   ]
  },
  {
   "cell_type": "code",
   "execution_count": 38,
   "id": "03374804-9bad-4160-84c5-4bf6d04d6d02",
   "metadata": {},
   "outputs": [
    {
     "name": "stdout",
     "output_type": "stream",
     "text": [
      "('Dima', 32)\n",
      "('Vera', 26)\n",
      "('Brovkin', 31)\n"
     ]
    }
   ],
   "source": [
    "d = {'Dima': 32, 'Vera': 26, 'Brovkin': 31}\n",
    "for i in d.items():\n",
    "    print(i)"
   ]
  },
  {
   "cell_type": "markdown",
   "id": "530f1c9e-a1f9-46b7-9053-7975a6e191d4",
   "metadata": {
    "jp-MarkdownHeadingCollapsed": true,
    "tags": []
   },
   "source": [
    "# Как указываются ключи в словаре?"
   ]
  },
  {
   "cell_type": "code",
   "execution_count": 12,
   "id": "043a5a02-deab-4dea-b352-3edb7b1267e8",
   "metadata": {},
   "outputs": [],
   "source": [
    "A = {'1': '1', '2': '2'} #можно"
   ]
  },
  {
   "cell_type": "code",
   "execution_count": 13,
   "id": "bf6bd25c-4605-4f82-91db-f0ca33f8a381",
   "metadata": {},
   "outputs": [
    {
     "data": {
      "text/plain": [
       "'1'"
      ]
     },
     "execution_count": 13,
     "metadata": {},
     "output_type": "execute_result"
    }
   ],
   "source": [
    "A['1']"
   ]
  },
  {
   "cell_type": "code",
   "execution_count": 14,
   "id": "301009ec-7560-4690-8424-538900d84fe6",
   "metadata": {},
   "outputs": [],
   "source": [
    "B = {'1': 1, '2': 2} #можно"
   ]
  },
  {
   "cell_type": "code",
   "execution_count": 15,
   "id": "3ee1fc13-0032-4f04-b8f1-d2baa999a01e",
   "metadata": {},
   "outputs": [
    {
     "data": {
      "text/plain": [
       "1"
      ]
     },
     "execution_count": 15,
     "metadata": {},
     "output_type": "execute_result"
    }
   ],
   "source": [
    "B['1']"
   ]
  },
  {
   "cell_type": "code",
   "execution_count": 16,
   "id": "88a5e20f-ab5f-4bde-978d-b2f09b77b177",
   "metadata": {},
   "outputs": [],
   "source": [
    "C = {1: '1', 2: '2'} #можно"
   ]
  },
  {
   "cell_type": "code",
   "execution_count": 17,
   "id": "b3341614-516a-414e-a37e-16147aad1d1a",
   "metadata": {},
   "outputs": [
    {
     "data": {
      "text/plain": [
       "'1'"
      ]
     },
     "execution_count": 17,
     "metadata": {},
     "output_type": "execute_result"
    }
   ],
   "source": [
    "C[1]"
   ]
  },
  {
   "cell_type": "code",
   "execution_count": 18,
   "id": "c0501067-db4c-4b2a-939e-fcef5263a773",
   "metadata": {},
   "outputs": [],
   "source": [
    "D = {1: 1, 2: 2} #можно"
   ]
  },
  {
   "cell_type": "code",
   "execution_count": 19,
   "id": "f86ee703-25e7-4d7e-884d-16aa3a7e20da",
   "metadata": {},
   "outputs": [
    {
     "data": {
      "text/plain": [
       "1"
      ]
     },
     "execution_count": 19,
     "metadata": {},
     "output_type": "execute_result"
    }
   ],
   "source": [
    "D[1]"
   ]
  },
  {
   "cell_type": "markdown",
   "id": "1262b916-b847-49d7-a4a6-95d20a61c1c4",
   "metadata": {
    "jp-MarkdownHeadingCollapsed": true,
    "tags": []
   },
   "source": [
    "# Как найти значение в словаре?"
   ]
  },
  {
   "cell_type": "code",
   "execution_count": 48,
   "id": "8e32add2-83b6-4188-9d1f-6606ce227f05",
   "metadata": {},
   "outputs": [
    {
     "name": "stdout",
     "output_type": "stream",
     "text": [
      "3\n"
     ]
    }
   ],
   "source": [
    "my_dict = {1: [0, 1], 2: [2, 3], 3: [4, 5]}\n",
    "\n",
    "print(my_dict[2][1])\n",
    "\n",
    "# my_dict - обращение к словарю, \n",
    "#['x'] - обращение к ключу словаря, \n",
    "#[0] - обращение к индексу элемента списка."
   ]
  },
  {
   "cell_type": "markdown",
   "id": "8ec548f7-5d7d-49ac-b0be-494688ac8138",
   "metadata": {
    "jp-MarkdownHeadingCollapsed": true,
    "tags": []
   },
   "source": [
    "# Как обновить словарь d1 словарем d2? d1.update(d2)?"
   ]
  },
  {
   "cell_type": "code",
   "execution_count": 46,
   "id": "f39943a4-f8a8-4b56-af82-f26eff08c799",
   "metadata": {},
   "outputs": [
    {
     "name": "stdout",
     "output_type": "stream",
     "text": [
      "{'Dima': 32, 'Vera': 26, 'Brovkin': 31, 'Misa': 21, 'Liza': 21}\n"
     ]
    }
   ],
   "source": [
    "# обновляем старый словарь с помощью нового (перезаписываем значения d2 в словарь d1)\n",
    "d1 = {'Dima': 32, 'Vera': 26, 'Brovkin': 31}\n",
    "d2 = {'Misa': 21, 'Liza': 21}\n",
    "d1 = d2.update(d1)\n",
    "print(d3)"
   ]
  },
  {
   "cell_type": "markdown",
   "id": "0f494f86-e8d3-4478-87e5-3a739d2a3d0a",
   "metadata": {
    "tags": []
   },
   "source": [
    "# Как объеденить словари {** , **} и  |?"
   ]
  },
  {
   "cell_type": "code",
   "execution_count": 42,
   "id": "0ff3433f-75fd-4a6c-91ad-f06c4aa35dc2",
   "metadata": {},
   "outputs": [
    {
     "name": "stdout",
     "output_type": "stream",
     "text": [
      "{'Dima': 32, 'Vera': 26, 'Brovkin': 31, 'Misa': 21, 'Liza': 21}\n"
     ]
    }
   ],
   "source": [
    "d1 = {'Dima': 32, 'Vera': 26, 'Brovkin': 31}\n",
    "d2 = {'Misa': 21, 'Liza': 21}\n",
    "d3 = {**d1, **d2}\n",
    "print(d3)"
   ]
  },
  {
   "cell_type": "code",
   "execution_count": 43,
   "id": "97984021-1ad4-46a6-88d1-0e0042f07851",
   "metadata": {},
   "outputs": [
    {
     "name": "stdout",
     "output_type": "stream",
     "text": [
      "{'Dima': 32, 'Vera': 26, 'Brovkin': 31, 'Misa': 21, 'Liza': 21}\n"
     ]
    }
   ],
   "source": [
    "d1 = {'Dima': 32, 'Vera': 26, 'Brovkin': 31}\n",
    "d2 = {'Misa': 21, 'Liza': 21}\n",
    "d3 = d1 |d2\n",
    "print(d3)"
   ]
  },
  {
   "cell_type": "markdown",
   "id": "ab1b4302-9e00-46d9-a7d1-d78ccec7509c",
   "metadata": {
    "jp-MarkdownHeadingCollapsed": true,
    "tags": []
   },
   "source": [
    "# Мин и макс в словарях"
   ]
  },
  {
   "cell_type": "code",
   "execution_count": 54,
   "id": "2ab07829-0872-455d-9809-b56003d0b7d3",
   "metadata": {},
   "outputs": [
    {
     "name": "stdout",
     "output_type": "stream",
     "text": [
      "A\n",
      "Misa\n"
     ]
    }
   ],
   "source": [
    "d1 = {'Dima': 32, 'Vera': 26, 'Brovkin': 31, 'A': 11}\n",
    "d2 = {'Misa': 21, 'Liza': 21}\n",
    "print(min(d1))\n",
    "print(max(d2))"
   ]
  },
  {
   "cell_type": "markdown",
   "id": "5a9dcb85-e9fa-41b5-b58c-3b5340af7d49",
   "metadata": {
    "jp-MarkdownHeadingCollapsed": true,
    "tags": []
   },
   "source": [
    "# Примеры задач 1"
   ]
  },
  {
   "cell_type": "markdown",
   "id": "3a809956-3103-4907-9728-37ca94abafbc",
   "metadata": {
    "jp-MarkdownHeadingCollapsed": true,
    "tags": []
   },
   "source": [
    "### **Задача 1**\n",
    "\n",
    "Вводятся данные в формате ключ=значение в одну строчку через пробел. Значениями здесь являются целые числа (см. пример ниже). Необходимо на их основе создать словарь d с помощью функции dict() и вывести его на экран командой:\n",
    "\n",
    "print(*sorted(d.items()))\n",
    "\n",
    "**Sample Input:**\n",
    "one=1 two=2 three=3\n",
    "\n",
    "**Sample Output:**\n",
    "('one', 1) ('three', 3) ('two', 2)"
   ]
  },
  {
   "cell_type": "code",
   "execution_count": null,
   "id": "2b829490-3039-406c-9c1f-d137205376ba",
   "metadata": {},
   "outputs": [],
   "source": [
    "d = dict(c.split(\"=\") for c in input().split())\n",
    "\n",
    "for i in d:\n",
    "    d[i] = int(d[i])\n",
    "    \n",
    "print(*sorted(d.items()))"
   ]
  },
  {
   "cell_type": "markdown",
   "id": "6228bef8-ef5d-45ba-a18d-3d7e7ff45b93",
   "metadata": {
    "jp-MarkdownHeadingCollapsed": true,
    "tags": []
   },
   "source": [
    "## **Задача 2**\n",
    "\n",
    "На вход программы поступают данные в виде набора строк в формате:  \n",
    "ключ1=значение1  \n",
    "ключ2=значение2  \n",
    "...  \n",
    "ключN=значениеN  \n",
    "\n",
    "\n",
    "Ключами здесь выступают целые числа (см. пример ниже). Необходимо их преобразовать в словарь d (без использования функции dict()) и вывести его на экран командой:\n",
    "\n",
    "print(*sorted(d.items()))\n",
    "\n",
    "**P. S.** Для считывания списка целиком в программе уже записаны начальные строчки.\n",
    "\n",
    "**Sample Input:**  \n",
    "5=отлично  \n",
    "4=хорошо  \n",
    "3=удовлетворительно  \n",
    "\n",
    "**Sample Output:**\n",
    "(3, 'удовлетворительно') (4, 'хорошо') (5, 'отлично')"
   ]
  },
  {
   "cell_type": "code",
   "execution_count": null,
   "id": "6f9d70db-8ad0-45da-964e-846085bb2fc8",
   "metadata": {},
   "outputs": [],
   "source": [
    "import sys\n",
    "\n",
    "lst_in = list(map(str.strip, sys.stdin.readlines())) # считывание списка из входного потока\n",
    "\n",
    "c = []\n",
    "for i in range(0, len(lst_in)):\n",
    "    b = lst_in[i].split('=')\n",
    "    c.append(b)\n",
    "    c[i][0] = int(c[i][0])\n",
    "\n",
    "d = {}\n",
    "for i in range(0, len(c)):\n",
    "    d[c[i][0]] = c[i][1]\n",
    "    \n",
    "print(*sorted(d.items()))\n",
    "\n",
    "\n"
   ]
  },
  {
   "cell_type": "markdown",
   "id": "63b1c193-1e3d-4856-853e-6c3eae944dcd",
   "metadata": {},
   "source": [
    "**ЗАМЕЧАНИЕ**  \n",
    "Подобную задачу можно решать с помощью **включения словарей**!!!\n",
    "\n",
    "**{выражение для ключа : выражение для значения for выражение in итерабельный объект}**  \n",
    "d = {int(i.split('=')[0]):i.split('=')[1] for i in lst_in}"
   ]
  },
  {
   "cell_type": "markdown",
   "id": "75df1492-9141-49dd-8e02-4d7bce521eb2",
   "metadata": {
    "jp-MarkdownHeadingCollapsed": true,
    "tags": []
   },
   "source": [
    "## **Задача 3**\n",
    "\n",
    "Вводятся данные в формате ключ=значение в одну строчку через пробел. Необходимо на их основе создать словарь, затем проверить, существуют ли в нем ключи со значениями: 'house', 'True' и '5' (все ключи - строки). Если все они существуют, то вывести на экран ДА, иначе - НЕТ.\n",
    "\n",
    "**Sample Input:**  \n",
    "вологда=город house=дом True=1 5=отлично 9=божественно  \n",
    "**Sample Output:**\n",
    "ДА"
   ]
  },
  {
   "cell_type": "code",
   "execution_count": null,
   "id": "81cf04da-71b0-4e64-bb3c-d41b8281facf",
   "metadata": {},
   "outputs": [],
   "source": [
    "lst = list(map(str, input().split()))\n",
    "\n",
    "d = {i.split('=')[0]: i.split('=')[1] for i in lst}\n",
    "\n",
    "if ('house' in d) and ('True'in d) and ('5' in d):\n",
    "    print ('ДА')\n",
    "else:\n",
    "    print ('НЕТ')"
   ]
  },
  {
   "cell_type": "markdown",
   "id": "def91e40-ca79-4295-9b71-d7d04bf60989",
   "metadata": {
    "jp-MarkdownHeadingCollapsed": true,
    "tags": []
   },
   "source": [
    "## **Задача 4**\n",
    "\n",
    "Вводятся данные в формате ключ=значение в одну строчку через пробел. Необходимо на их основе создать словарь d, затем удалить из этого словаря ключи 'False' и '3', если они существуют. Ключами и значениями словаря являются строки. Вывести полученный словарь на экран командой:\n",
    "\n",
    "print(*sorted(d.items()))\n",
    "\n",
    "**Sample Input:**\n",
    "лена=имя дон=река москва=город False=ложь 3=удовлетворительно True=истина\n",
    "**Sample Output:**\n",
    "('True', 'истина') ('дон', 'река') ('лена', 'имя') ('москва', 'город')\n"
   ]
  },
  {
   "cell_type": "code",
   "execution_count": null,
   "id": "17a4fb71-a4ec-4b6f-9786-98a2f1cc322e",
   "metadata": {},
   "outputs": [],
   "source": [
    "lst = list(map(str, input().split()))\n",
    "\n",
    "d = {i.split('=')[0]: i.split(\"=\")[1] for i in lst}\n",
    "\n",
    "if 'False' in d:\n",
    "    del d['False']\n",
    "if '3' in d:\n",
    "    del d['3']\n",
    "\n",
    "print(*sorted(d.items()))"
   ]
  },
  {
   "cell_type": "markdown",
   "id": "734b3361-9c85-4645-af2e-62a329c57f89",
   "metadata": {
    "tags": []
   },
   "source": [
    "## **Задача 5**\n",
    "\n",
    "Вводятся номера телефонов в одну строчку через пробел с разными кодами стран: +7, +6, +2, +4 и т.д. Необходимо составить словарь d, где ключи - это коды +7, +6, +2 и т.п., а значения - список номеров (следующих в том же порядке, что и во входной строке) с соответствующими кодами. Полученный словарь вывести командой:\n",
    "\n",
    "print(*sorted(d.items()))\n",
    "\n",
    "Sample Input:\n",
    "+71234567890 +71234567854 +61234576890 +52134567890 +21235777890 +21234567110 +71232267890\n",
    "Sample Output:\n",
    "('+2', ['+21235777890', '+21234567110']) ('+5', ['+52134567890']) ('+6', ['+61234576890']) ('+7', ['+71234567890', '+71234567854', '+71232267890'])"
   ]
  },
  {
   "cell_type": "code",
   "execution_count": null,
   "id": "16313e10-3a6f-4116-9f94-1b311fc616cf",
   "metadata": {},
   "outputs": [],
   "source": [
    "lst = list(map(str, input().split()))\n",
    "\n",
    "d = {i[0:2]: [] for i in lst}\n",
    "#d = {lst[i][0]+lst[i][1]: [] for i in range(0, len(lst))}\n",
    "\n",
    "for j in d:\n",
    "    for i in range(0, len(lst)):\n",
    "        if (lst[i][0:2] in d) and (lst[i][0:2] == j):\n",
    "            d[j].append(lst[i])\n",
    "print(*sorted(d.items()))\n"
   ]
  },
  {
   "cell_type": "code",
   "execution_count": null,
   "id": "e2c49b43-5355-4bfb-808a-311c39661457",
   "metadata": {},
   "outputs": [],
   "source": [
    "data = \"+79258810588 +79268810588 +19259910599 +29206150888 +29296150777\"\n",
    "\n",
    "list = [[i[0:2],i] for i in data.split()]\n",
    "\n",
    "d = {i[0:2]:[] for i in data.split()}\n",
    "\n",
    "for a, b in list:\n",
    "    d[a].append(b)\n",
    "    \n",
    "print(d)"
   ]
  },
  {
   "cell_type": "markdown",
   "id": "e0b04718-d498-41a8-a377-f2210be7e3bf",
   "metadata": {
    "tags": []
   },
   "source": [
    "## **Задача 6**  \n",
    "Вводятся номера телефонов в формате:\n",
    "\n",
    "номер_1 имя_1\n",
    "номер_2 имя_2\n",
    "...\n",
    "номер_N имя_N\n",
    "\n",
    "Необходимо создать словарь d, где ключами будут имена, а значениями - список номеров телефонов для этого имени. Обратите внимание, что одному имени может принадлежать несколько разных номеров. Полученный словарь вывести командой:\n",
    "\n",
    "print(*sorted(d.items()))\n",
    "\n",
    "P. S. Для считывания списка целиком в программе уже записаны начальные строчки.\n",
    "\n",
    "**Sample Input**   \n",
    "+71234567890 Сергей  \n",
    "+71234567810 Сергей  \n",
    "+51234567890 Михаил  \n",
    "+72134567890 Николай  \n",
    "\n",
    "**Sample Output:**  \n",
    "('Михаил', ['+51234567890']) ('Николай', ['+72134567890']) ('Сергей', ['+71234567890', '+71234567810'])\n"
   ]
  },
  {
   "cell_type": "code",
   "execution_count": null,
   "id": "8342dc07-4d47-4c1c-b859-1ab762a8a080",
   "metadata": {},
   "outputs": [],
   "source": [
    "import sys\n",
    "\n",
    "# считывание списка из входного потока\n",
    "lst_in = list(map(str.strip, sys.stdin.readlines()))\n",
    "\n",
    "# здесь продолжайте программу (используйте список lst_in)\n",
    "\n",
    "#a = [[lst_in[i].split(' ')[0], lst_in[i].split(' ')[1]] for i in range(0, len(lst_in))]\n",
    "a = [lst_in[i].split(' ')[0] + \" \" + lst_in[i].split(' ')[1] for i in range(0, len(lst_in))]\n",
    "d = {lst_in[j].split(' ')[1]: [] for j in range(0, len(lst_in))}\n",
    "\n",
    "for i in d:\n",
    "    for j in range(0, len(a)):\n",
    "        if i == a[j].split(' ')[1]:\n",
    "            d[i].append(a[j].split(' ')[0])\n",
    "    \n",
    "print(*sorted(d.items()))"
   ]
  },
  {
   "cell_type": "markdown",
   "id": "0212bc21-8d33-4309-9f65-4d444b083893",
   "metadata": {
    "tags": []
   },
   "source": [
    "## **Задача 7**  \n",
    "Пользователь вводит в цикле целые положительные числа, пока не введет число 0. Для каждого числа вычисляется квадратный корень (с точностью до сотых) и значение выводится на экран (в столбик). С помощью словаря выполните кэширование данных так, чтобы при повторном вводе того же самого числа результат не вычислялся, а бралось ранее вычисленное значение из словаря. При этом на экране должно выводиться:\n",
    "\n",
    "значение из кэша: <число>\n",
    "\n",
    "Sample Input:\n",
    "1  \n",
    "2  \n",
    "3  \n",
    "3  \n",
    "2  \n",
    "4  \n",
    "0  \n",
    "**Sample Output:**  \n",
    "1.0  \n",
    "1.41  \n",
    "1.73  \n",
    "значение из кэша: 1.73  \n",
    "значение из кэша: 1.41  \n",
    "2.0  \n"
   ]
  },
  {
   "cell_type": "code",
   "execution_count": null,
   "id": "e2a59ab0-06c8-4c06-947a-de7af2d9aecf",
   "metadata": {},
   "outputs": [],
   "source": [
    "c = []\n",
    "\n",
    "d = {}\n",
    "x = 1\n",
    "while x != 0:\n",
    "    x = int(input())\n",
    "    if x == 0:\n",
    "        break\n",
    "    if x not in d:\n",
    "        d[x] = round(x**(1/2), 2)\n",
    "        print(d[x])\n",
    "    else:\n",
    "        print(f'значение из кэша: {d[x]}')\n",
    "\n"
   ]
  },
  {
   "cell_type": "markdown",
   "id": "0b0abfbb-8e10-4e61-b6b8-b9120ef59aa2",
   "metadata": {},
   "source": [
    "## **Задача 8**\n",
    "\n",
    "Тестовый веб-сервер возвращает HTML-страницы по URL-адресам (строкам). На вход программы поступают различные URL-адреса. Если адрес пришел впервые, то на экране отобразить строку (без кавычек):\n",
    "\n",
    "\"HTML-страница для адреса <URL-адрес>\"\n",
    "\n",
    "Если адрес приходит повторно, то следует взять строку \"HTML-страница для адреса <URL-адрес>\" из словаря и вывести на экран сообщение (без кавычек):\n",
    "\n",
    "\"Взято из кэша: HTML-страница для адреса <URL-адрес>\"\n",
    "\n",
    "Сообщения выводить каждое с новой строки.\n",
    "\n",
    "P. S. Для считывания списка целиком в программе уже записаны начальные строчки.\n",
    "\n",
    "**Sample Input:**  \n",
    "ustanovka-i-zapusk-yazyka  \n",
    "ustanovka-i-poryadok-raboty-pycharm  \n",
    "peremennyye-operator-prisvaivaniya-tipy-dannykh  \n",
    "arifmeticheskiye-operatsii  \n",
    "ustanovka-i-poryadok-raboty-pycharm  \n",
    "**Sample Output:**  \n",
    "HTML-страница для адреса ustanovka-i-zapusk-yazyka  \n",
    "HTML-страница для адреса ustanovka-i-poryadok-raboty-pycharm  \n",
    "HTML-страница для адреса peremennyye-operator-prisvaivaniya-tipy-dannykh  \n",
    "HTML-страница для адреса arifmeticheskiye-operatsii  \n",
    "Взято из кэша: HTML-страница для адреса ustanovka-i-poryadok-raboty-pycharm  "
   ]
  },
  {
   "cell_type": "code",
   "execution_count": null,
   "id": "e682c1df-354e-4ae9-8c1d-300a87d7dfd3",
   "metadata": {},
   "outputs": [],
   "source": [
    "import sys\n",
    "\n",
    "# считывание списка из входного потока\n",
    "lst_in = list(map(str.strip, sys.stdin.readlines()))\n",
    "\n",
    "# здесь продолжайте программу (используйте список lst_in)\n",
    "\n",
    "d = {}\n",
    "\n",
    "for i in lst_in:\n",
    "    if i in d:\n",
    "        print(f'Взято из кэша: HTML-страница для адреса {i}')\n",
    "    else:\n",
    "        d[i] = i\n",
    "        print(f'HTML-страница для адреса {i}')"
   ]
  },
  {
   "cell_type": "markdown",
   "id": "ffac07ae-6d41-4c9d-91f9-8f47bd62cff3",
   "metadata": {
    "tags": []
   },
   "source": [
    "# Примеры задач 2"
   ]
  },
  {
   "cell_type": "code",
   "execution_count": null,
   "id": "7ebee11a-2530-40a1-a356-8c420d6d8d57",
   "metadata": {},
   "outputs": [],
   "source": []
  },
  {
   "cell_type": "markdown",
   "id": "ac838f2e-3acb-4774-ba65-963c17cb3814",
   "metadata": {},
   "source": [
    "## **Задача 1**\n",
    "Вводится строка из русских букв и символов пробела. Необходимо ее закодировать азбукой Морзе, где каждой букве ставится в соответствие код из точки и тире. После каждой закодированной буквы должен стоять пробел (символ окончания кода буквы). После последнего кода пробела быть не должно (в конце строки). Коды азбуки Морзе приведены ниже для русского алфавита и символа пробела:\n",
    "\n",
    "А    .-\tМ    --\tШ    ----\n",
    "Б    -...\tН    -.\tЩ    --.-\n",
    "В    .--\tО    ---\tЪ    --.--\n",
    "Г    --.\tП    .--.\tЫ    -.--\n",
    "Д    -..\tР    .-.\tЬ    -..-\n",
    "Е (Ё)    .\tС    ...\tЭ    ..-..\n",
    "Ж    ...-\tТ    -\tЮ    ..--\n",
    "З    --..\tУ    ..-\tЯ    .-.-\n",
    "И    ..\tФ    ..-.\t' '    -...-\n",
    "Й    .---\tХ    ....\t \n",
    "К    -.-\tЦ    -.-.\t \n",
    "Л    .-..\tЧ    ---.\t \n",
    "Результат кодирования вывести в виде строки.\n",
    "\n",
    "P. S. Для очень ленивых готовый словарь азбуки Морзе можно скачать по адресу: https://github.com/selfedu-rus/others (файл morze-dict.py). Для практики лучше его составить самостоятельно. Да, работа программиста иногда связана и с такой рутиной.\n",
    " \n",
    "\n",
    "**Sample Input:**  \n",
    "Сергей Балакирев  \n",
    "**Sample Output:**. \n",
    "... . .-. --. . .--- -...- -... .- .-.. .- -.- .. .-. . .--\n"
   ]
  },
  {
   "cell_type": "code",
   "execution_count": 47,
   "id": "965a22cc-7148-4951-af3e-2c0cd2024df1",
   "metadata": {},
   "outputs": [
    {
     "name": "stdout",
     "output_type": "stream",
     "text": [
      "{'first': 1, 'second': 2, 'third': 3}\n"
     ]
    }
   ],
   "source": [
    "my_dict = dict([('first', 1), ('second', 2), ('third', 3)])\n",
    "\n",
    "print(my_dict)"
   ]
  },
  {
   "cell_type": "code",
   "execution_count": 56,
   "id": "b6ae6272-f4c4-4c7a-8bc1-948cb93b2a1a",
   "metadata": {},
   "outputs": [
    {
     "ename": "TypeError",
     "evalue": "list indices must be integers or slices, not dict",
     "output_type": "error",
     "traceback": [
      "\u001b[0;31m---------------------------------------------------------------------------\u001b[0m",
      "\u001b[0;31mTypeError\u001b[0m                                 Traceback (most recent call last)",
      "Cell \u001b[0;32mIn [56], line 19\u001b[0m\n\u001b[1;32m      1\u001b[0m users \u001b[38;5;241m=\u001b[39m [{\u001b[38;5;124m'\u001b[39m\u001b[38;5;124mname\u001b[39m\u001b[38;5;124m'\u001b[39m: \u001b[38;5;124m'\u001b[39m\u001b[38;5;124mTodd\u001b[39m\u001b[38;5;124m'\u001b[39m, \u001b[38;5;124m'\u001b[39m\u001b[38;5;124mphone\u001b[39m\u001b[38;5;124m'\u001b[39m: \u001b[38;5;124m'\u001b[39m\u001b[38;5;124m551-1414\u001b[39m\u001b[38;5;124m'\u001b[39m, \u001b[38;5;124m'\u001b[39m\u001b[38;5;124memail\u001b[39m\u001b[38;5;124m'\u001b[39m: \u001b[38;5;124m'\u001b[39m\u001b[38;5;124mtodd@gmail.com\u001b[39m\u001b[38;5;124m'\u001b[39m},\n\u001b[1;32m      2\u001b[0m          {\u001b[38;5;124m'\u001b[39m\u001b[38;5;124mname\u001b[39m\u001b[38;5;124m'\u001b[39m: \u001b[38;5;124m'\u001b[39m\u001b[38;5;124mHelga\u001b[39m\u001b[38;5;124m'\u001b[39m, \u001b[38;5;124m'\u001b[39m\u001b[38;5;124mphone\u001b[39m\u001b[38;5;124m'\u001b[39m: \u001b[38;5;124m'\u001b[39m\u001b[38;5;124m555-1618\u001b[39m\u001b[38;5;124m'\u001b[39m, \u001b[38;5;124m'\u001b[39m\u001b[38;5;124memail\u001b[39m\u001b[38;5;124m'\u001b[39m: \u001b[38;5;124m'\u001b[39m\u001b[38;5;124mhelga@mail.net\u001b[39m\u001b[38;5;124m'\u001b[39m},\n\u001b[1;32m      3\u001b[0m          {\u001b[38;5;124m'\u001b[39m\u001b[38;5;124mname\u001b[39m\u001b[38;5;124m'\u001b[39m: \u001b[38;5;124m'\u001b[39m\u001b[38;5;124mOlivia\u001b[39m\u001b[38;5;124m'\u001b[39m, \u001b[38;5;124m'\u001b[39m\u001b[38;5;124mphone\u001b[39m\u001b[38;5;124m'\u001b[39m: \u001b[38;5;124m'\u001b[39m\u001b[38;5;124m449-3141\u001b[39m\u001b[38;5;124m'\u001b[39m, \u001b[38;5;124m'\u001b[39m\u001b[38;5;124memail\u001b[39m\u001b[38;5;124m'\u001b[39m: \u001b[38;5;124m'\u001b[39m\u001b[38;5;124m'\u001b[39m},\n\u001b[0;32m   (...)\u001b[0m\n\u001b[1;32m     15\u001b[0m          {\u001b[38;5;124m'\u001b[39m\u001b[38;5;124mname\u001b[39m\u001b[38;5;124m'\u001b[39m: \u001b[38;5;124m'\u001b[39m\u001b[38;5;124mFedor\u001b[39m\u001b[38;5;124m'\u001b[39m, \u001b[38;5;124m'\u001b[39m\u001b[38;5;124mphone\u001b[39m\u001b[38;5;124m'\u001b[39m: \u001b[38;5;124m'\u001b[39m\u001b[38;5;124m+7445-341-0545\u001b[39m\u001b[38;5;124m'\u001b[39m, \u001b[38;5;124m'\u001b[39m\u001b[38;5;124memail\u001b[39m\u001b[38;5;124m'\u001b[39m: \u001b[38;5;124m'\u001b[39m\u001b[38;5;124m'\u001b[39m},\n\u001b[1;32m     16\u001b[0m          {\u001b[38;5;124m'\u001b[39m\u001b[38;5;124mname\u001b[39m\u001b[38;5;124m'\u001b[39m: \u001b[38;5;124m'\u001b[39m\u001b[38;5;124mTim\u001b[39m\u001b[38;5;124m'\u001b[39m, \u001b[38;5;124m'\u001b[39m\u001b[38;5;124mphone\u001b[39m\u001b[38;5;124m'\u001b[39m: \u001b[38;5;124m'\u001b[39m\u001b[38;5;124m242-449-3141\u001b[39m\u001b[38;5;124m'\u001b[39m, \u001b[38;5;124m'\u001b[39m\u001b[38;5;124memail\u001b[39m\u001b[38;5;124m'\u001b[39m: \u001b[38;5;124m'\u001b[39m\u001b[38;5;124mtimm.ggg@yandex.ru\u001b[39m\u001b[38;5;124m'\u001b[39m}]\n\u001b[1;32m     18\u001b[0m \u001b[38;5;28;01mfor\u001b[39;00m i \u001b[38;5;129;01min\u001b[39;00m users:\n\u001b[0;32m---> 19\u001b[0m     \u001b[38;5;28;01mif\u001b[39;00m  \u001b[43musers\u001b[49m\u001b[43m[\u001b[49m\u001b[43mi\u001b[49m\u001b[43m]\u001b[49m \u001b[38;5;241m==\u001b[39m \u001b[38;5;124m\"\u001b[39m\u001b[38;5;124m8\u001b[39m\u001b[38;5;124m\"\u001b[39m:\n\u001b[1;32m     20\u001b[0m         \u001b[38;5;28mprint\u001b[39m(users[i])\n",
      "\u001b[0;31mTypeError\u001b[0m: list indices must be integers or slices, not dict"
     ]
    }
   ],
   "source": [
    "users = [{'name': 'Todd', 'phone': '551-1414', 'email': 'todd@gmail.com'},\n",
    "         {'name': 'Helga', 'phone': '555-1618', 'email': 'helga@mail.net'},\n",
    "         {'name': 'Olivia', 'phone': '449-3141', 'email': ''},\n",
    "         {'name': 'LJ', 'phone': '555-2718', 'email': 'lj@gmail.net'},\n",
    "         {'name': 'Ruslan', 'phone': '422-145-9098', 'email': 'rus-lan.cha@yandex.ru'},\n",
    "         {'name': 'John', 'phone': '233-421-32', 'email': ''},\n",
    "         {'name': 'Lara', 'phone': '+7998-676-2532', 'email': 'g.lara89@gmail.com'},\n",
    "         {'name': 'Alina', 'phone': '+7948-799-2434', 'email': 'ali.ch.b@gmail.com'},\n",
    "         {'name': 'Robert', 'phone': '420-2011', 'email': ''},\n",
    "         {'name': 'Riyad', 'phone': '128-8890-128', 'email': 'r.mahrez@mail.net'},\n",
    "         {'name': 'Khabib', 'phone': '+7995-600-9080', 'email': 'kh.nurmag@gmail.com'},\n",
    "         {'name': 'Olga', 'phone': '6449-314-1213', 'email': ''},\n",
    "         {'name': 'Roman', 'phone': '+7459-145-8059', 'email': 'roma988@mail.ru'},\n",
    "         {'name': 'Maria', 'phone': '12-129-3148', 'email': 'm.sharapova@gmail.com'},\n",
    "         {'name': 'Fedor', 'phone': '+7445-341-0545', 'email': ''},\n",
    "         {'name': 'Tim', 'phone': '242-449-3141', 'email': 'timm.ggg@yandex.ru'}]\n",
    "\n",
    "for i in users:\n",
    "    if  users[i] == \"8\":\n",
    "        print(users[i])"
   ]
  },
  {
   "cell_type": "code",
   "execution_count": null,
   "id": "fdecfa5c-5997-4855-8761-d81fc40c7d20",
   "metadata": {},
   "outputs": [],
   "source": []
  }
 ],
 "metadata": {
  "kernelspec": {
   "display_name": "Python 3 (ipykernel)",
   "language": "python",
   "name": "python3"
  },
  "language_info": {
   "codemirror_mode": {
    "name": "ipython",
    "version": 3
   },
   "file_extension": ".py",
   "mimetype": "text/x-python",
   "name": "python",
   "nbconvert_exporter": "python",
   "pygments_lexer": "ipython3",
   "version": "3.11.0"
  }
 },
 "nbformat": 4,
 "nbformat_minor": 5
}
