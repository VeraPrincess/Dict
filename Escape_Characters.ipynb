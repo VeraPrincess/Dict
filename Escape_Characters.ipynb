{
 "cells": [
  {
   "cell_type": "markdown",
   "id": "6cba5981-ea4b-475c-9140-3ec5311e6369",
   "metadata": {
    "jp-MarkdownHeadingCollapsed": true,
    "tags": []
   },
   "source": [
    "# Экранирование символов/escape-последовательности (Escape Characters)"
   ]
  },
  {
   "cell_type": "markdown",
   "id": "3602f5c3-efe1-4073-a121-b81e9dee1652",
   "metadata": {
    "tags": []
   },
   "source": [
    "# Что такое экранирование в Питоне?"
   ]
  },
  {
   "cell_type": "markdown",
   "id": "41a786d4-cfef-408e-85c0-f29cac02ce59",
   "metadata": {},
   "source": [
    "Экранированные последовательности – это последовательности символов, определяющие специальные символы которые тяжело ввести с клавиатуры или отобразить на экране."
   ]
  },
  {
   "cell_type": "code",
   "execution_count": 4,
   "id": "636fa870-07fe-4c6c-b515-f5b2ae39d928",
   "metadata": {},
   "outputs": [
    {
     "name": "stdout",
     "output_type": "stream",
     "text": [
      "Hi\n",
      "!\n",
      "\n",
      "5\n"
     ]
    },
    {
     "data": {
      "text/plain": [
       "'Hi\\n!\\n'"
      ]
     },
     "execution_count": 4,
     "metadata": {},
     "output_type": "execute_result"
    }
   ],
   "source": [
    "Accretion_Disk = \"\"\"Hi\n",
    "!\n",
    "\"\"\"\n",
    "print(Accretion_Disk)\n",
    "print(len(Accretion_Disk)) #длина равна 5, потмоу что \\n тоже считается за символ, то есть 'Hi\\n!\\n'\n",
    "Accretion_Disk "
   ]
  },
  {
   "cell_type": "markdown",
   "id": "8919e63c-bc36-4405-9881-1fa265b20dc4",
   "metadata": {
    "tags": []
   },
   "source": [
    "# Почему код не выводит строку с обратными символами?"
   ]
  },
  {
   "cell_type": "code",
   "execution_count": 5,
   "id": "3739ae89-9a81-4b2b-a6b1-3f5a9981b8d6",
   "metadata": {},
   "outputs": [
    {
     "name": "stdout",
     "output_type": "stream",
     "text": [
      "Space\n",
      "forever\n"
     ]
    }
   ],
   "source": [
    "Your_wish = \"Space\\nforever\"\n",
    "\n",
    "print(Your_wish)"
   ]
  },
  {
   "cell_type": "code",
   "execution_count": 6,
   "id": "f8794f8b-e70b-4e95-aec8-7b5ac919b9ba",
   "metadata": {},
   "outputs": [
    {
     "name": "stdout",
     "output_type": "stream",
     "text": [
      "Space\n",
      "forever\n"
     ]
    },
    {
     "data": {
      "text/plain": [
       "'Space\\nforever'"
      ]
     },
     "execution_count": 6,
     "metadata": {},
     "output_type": "execute_result"
    }
   ],
   "source": [
    "My_wish = \"Space\\nforever\"\n",
    "\n",
    "print(My_wish)\n",
    "My_wish\n"
   ]
  },
  {
   "cell_type": "code",
   "execution_count": 7,
   "id": "db83790f-f501-4f33-8a07-1d4ffb75b9ae",
   "metadata": {},
   "outputs": [
    {
     "data": {
      "text/plain": [
       "'Space\\nforever'"
      ]
     },
     "execution_count": 7,
     "metadata": {},
     "output_type": "execute_result"
    }
   ],
   "source": [
    "His_wish = \"Space\\nforever\"\n",
    "His_wish "
   ]
  },
  {
   "cell_type": "markdown",
   "id": "15370944-6bec-4a20-a526-070a8170a031",
   "metadata": {
    "tags": []
   },
   "source": [
    "# Почему строку нельзя закончить \"\\\\\"?"
   ]
  },
  {
   "cell_type": "markdown",
   "id": "52e9b67f-1cd4-4156-8ec8-83b5744223f1",
   "metadata": {},
   "source": [
    "Потому что когда Питон видит \"\\\", то он начинает искать соотвестиве служебному символу."
   ]
  },
  {
   "cell_type": "code",
   "execution_count": 8,
   "id": "b743b02a-fb60-4d1c-a59f-44a18e02a23b",
   "metadata": {
    "tags": []
   },
   "outputs": [
    {
     "ename": "SyntaxError",
     "evalue": "unterminated string literal (detected at line 1) (1817404797.py, line 1)",
     "output_type": "error",
     "traceback": [
      "\u001b[0;36m  Cell \u001b[0;32mIn [8], line 1\u001b[0;36m\u001b[0m\n\u001b[0;31m    w = \"Spaceforever\\\"\u001b[0m\n\u001b[0m        ^\u001b[0m\n\u001b[0;31mSyntaxError\u001b[0m\u001b[0;31m:\u001b[0m unterminated string literal (detected at line 1)\n"
     ]
    }
   ],
   "source": [
    "w = \"Spaceforever\\\"\n",
    "\n",
    "print(w)"
   ]
  },
  {
   "cell_type": "markdown",
   "id": "3a10293b-395e-47d5-ac88-8a2ce035b5b4",
   "metadata": {},
   "source": [
    "обратный слэш экранировал знак апострофа"
   ]
  },
  {
   "cell_type": "markdown",
   "id": "6d68a558-496e-480e-b2d3-d7e109c14f3a",
   "metadata": {
    "tags": []
   },
   "source": [
    "# Почему в пути папки вводят обычно \"\\\\\\\\\", а не \"\\\\\"?"
   ]
  },
  {
   "cell_type": "markdown",
   "id": "dcabb331-8389-4de0-8836-69cf13e13fec",
   "metadata": {},
   "source": [
    "Чтобы не было экранирования"
   ]
  },
  {
   "cell_type": "code",
   "execution_count": 9,
   "id": "63d3ec4a-aafb-4ed5-83d3-ac6aa9ea61cc",
   "metadata": {},
   "outputs": [
    {
     "name": "stdout",
     "output_type": "stream",
     "text": [
      "space\\is\\our\town\n"
     ]
    }
   ],
   "source": [
    "s = \"space\\is\\our\\town\"\n",
    "print(s)"
   ]
  },
  {
   "cell_type": "code",
   "execution_count": 10,
   "id": "55344fa0-3e47-41af-8626-1b0b379810c0",
   "metadata": {},
   "outputs": [
    {
     "name": "stdout",
     "output_type": "stream",
     "text": [
      "space\\is\\our\\town\n"
     ]
    }
   ],
   "source": [
    "s = \"space\\\\is\\\\our\\\\town\"\n",
    "print(s)"
   ]
  },
  {
   "cell_type": "markdown",
   "id": "7a115703-a046-4ee2-a9f4-9acb54541eed",
   "metadata": {
    "tags": []
   },
   "source": [
    "# Что происходит??? Как исправить ситуацию?"
   ]
  },
  {
   "cell_type": "code",
   "execution_count": 11,
   "id": "874a170c-5477-425f-a9db-4f7508dc622b",
   "metadata": {},
   "outputs": [
    {
     "name": "stdout",
     "output_type": "stream",
     "text": [
      "ats\\ofce\\isrilliant\town\f",
      "or\n",
      "ice\\Vera\n"
     ]
    }
   ],
   "source": [
    "sp = 'C:\\space\\is\\a\\brilliant\\town\\for\\rats\\of\\nice\\Vera'\n",
    "print(sp)"
   ]
  },
  {
   "cell_type": "markdown",
   "id": "0896f678-a0d4-4895-a763-797c572ee655",
   "metadata": {},
   "source": [
    "# А происходит вот что..."
   ]
  },
  {
   "cell_type": "code",
   "execution_count": 12,
   "id": "759eada5-0b40-424d-9ed1-2d9ef424eb7d",
   "metadata": {},
   "outputs": [
    {
     "name": "stdout",
     "output_type": "stream",
     "text": [
      "C:\\space\\is\\a\\brilliant\\town\\for\\rats\\of\\nice\\Vera\n"
     ]
    }
   ],
   "source": [
    "\n",
    "sp = 'C:\\space\\is\\\\a\\\\brilliant\\\\town\\\\for\\\\rats\\of\\\\nice\\\\Vera'\n",
    "\n",
    "# \\t - табуляция\n",
    "# \\r - возврат каретки - перенос части текста в начало с затиранием\n",
    "# \\f - разрыв страницы \n",
    "# \\n - перенос строки\n",
    "# \\v - вертикальная табуляция\n",
    "# \\a - зуковой сигнал???????????????????? не знаю, что это. Объясните плез :( \n",
    "# \\b - бэкспейс (удалит букву)\n",
    "print(sp)"
   ]
  }
 ],
 "metadata": {
  "kernelspec": {
   "display_name": "Python 3 (ipykernel)",
   "language": "python",
   "name": "python3"
  },
  "language_info": {
   "codemirror_mode": {
    "name": "ipython",
    "version": 3
   },
   "file_extension": ".py",
   "mimetype": "text/x-python",
   "name": "python",
   "nbconvert_exporter": "python",
   "pygments_lexer": "ipython3",
   "version": "3.11.0"
  }
 },
 "nbformat": 4,
 "nbformat_minor": 5
}
